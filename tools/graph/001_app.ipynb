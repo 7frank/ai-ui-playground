{
 "cells": [
  {
   "cell_type": "markdown",
   "metadata": {},
   "source": [
    "https://neptune.ai/blog/web-scraping-and-knowledge-graphs-machine-learning"
   ]
  },
  {
   "cell_type": "code",
   "execution_count": 4,
   "metadata": {},
   "outputs": [],
   "source": [
    "\n",
    "import wikipediaapi  \n",
    "import pandas as pd\n",
    "import concurrent.futures\n",
    "from tqdm import tqdm\n"
   ]
  },
  {
   "cell_type": "code",
   "execution_count": 6,
   "metadata": {},
   "outputs": [],
   "source": [
    "def scrape_wikipedia(name_topic, verbose=True):\n",
    "   def link_to_wikipedia(link):\n",
    "       try:\n",
    "           page = api_wikipedia.page(link)\n",
    "           if page.exists():\n",
    "               return {'page': link, 'text': page.text, 'link': page.fullurl, 'categories': list(page.categories.keys())}\n",
    "       except:\n",
    "           return None\n",
    "      \n",
    "   api_wikipedia = wikipediaapi.Wikipedia(language='en',user_agent=\"Mozilla/5.0 (X11; Linux i686; rv:109.0) Gecko/20100101 Firefox/121.0\", extract_format=wikipediaapi.ExtractFormat.WIKI)\n",
    "   name_of_page = api_wikipedia.page(name_topic)\n",
    "   if not name_of_page.exists():\n",
    "       print('Page {} is not present'.format(name_of_page))\n",
    "       return\n",
    "  \n",
    "   links_to_page = list(name_of_page.links.keys())\n",
    "   procceed = tqdm(desc='Scraped links', unit='', total=len(links_to_page)) if verbose else None\n",
    "   origin = [{'page': name_topic, 'text': name_of_page.text, 'link': name_of_page.fullurl, 'categories': list(name_of_page.categories.keys())}]\n",
    "  \n",
    "   with concurrent.futures.ThreadPoolExecutor(max_workers=5) as executor:\n",
    "       links_future = {executor.submit(link_to_wikipedia, link): link for link in links_to_page}\n",
    "       for future in concurrent.futures.as_completed(links_future):\n",
    "           info = future.result()\n",
    "           origin.append(info) if info else None\n",
    "           procceed.update(1) if verbose else None\n",
    "   procceed.close() if verbose else None\n",
    "  \n",
    "   namespaces = ('Wikipedia', 'Special', 'Talk', 'LyricWiki', 'File', 'MediaWiki',\n",
    "                 'Template', 'Help', 'User', 'Category talk', 'Portal talk')\n",
    "   origin = pd.DataFrame(origin)\n",
    "   origin = origin[(len(origin['text']) > 20)\n",
    "                     & ~(origin['page'].str.startswith(namespaces, na=True))]\n",
    "   origin['categories'] = origin.categories.apply(lambda a: [b[9:] for b in a])\n",
    "\n",
    "   origin['topic'] = name_topic\n",
    "   print('Scraped pages', len(origin))\n",
    "  \n",
    "   return origin\n"
   ]
  },
  {
   "cell_type": "code",
   "execution_count": 7,
   "metadata": {},
   "outputs": [
    {
     "name": "stderr",
     "output_type": "stream",
     "text": [
      "Scraped links: 100%|██████████| 1593/1593 [03:11<00:00,  8.32/s]"
     ]
    },
    {
     "name": "stdout",
     "output_type": "stream",
     "text": [
      "Scraped pages 1549\n"
     ]
    },
    {
     "name": "stderr",
     "output_type": "stream",
     "text": [
      "\n"
     ]
    }
   ],
   "source": [
    "data_wikipedia = scrape_wikipedia('Artificial_intelligence')"
   ]
  },
  {
   "cell_type": "code",
   "execution_count": 8,
   "metadata": {},
   "outputs": [],
   "source": [
    "data_wikipedia.to_csv('scraped_data.csv')"
   ]
  },
  {
   "cell_type": "markdown",
   "metadata": {},
   "source": [
    "Now that we have the data stored as csv we want to create the graph"
   ]
  },
  {
   "cell_type": "code",
   "execution_count": null,
   "metadata": {},
   "outputs": [],
   "source": [
    "# download spacy model\n",
    "!python -m spacy download en_core_web_sm"
   ]
  },
  {
   "cell_type": "code",
   "execution_count": null,
   "metadata": {},
   "outputs": [],
   "source": [
    "import spacy\n",
    "import pandas as pd\n",
    "import requests\n",
    "from spacy import displacy\n",
    "# import en_core_web_sm\n",
    " \n",
    "nlp = spacy.load('en_core_web_sm')\n",
    " \n",
    "from spacy.tokens import Span\n",
    "from spacy.matcher import Matcher\n",
    " \n",
    "import matplotlib.pyplot as plot\n",
    "from tqdm import tqdm\n",
    "import networkx as ntx\n",
    "import neptune\n",
    " \n",
    "%matplotlib inline\n"
   ]
  },
  {
   "cell_type": "code",
   "execution_count": null,
   "metadata": {},
   "outputs": [],
   "source": [
    "run = neptune.init_run(api_token=\"your API key\",\n",
    "                   project=\"aravindcr/KnowledgeGraphs\")"
   ]
  },
  {
   "cell_type": "code",
   "execution_count": null,
   "metadata": {},
   "outputs": [],
   "source": [
    "# Upload data to Neptune.\n",
    "run[\"data\"].upload(\"scraped_data.csv\")"
   ]
  },
  {
   "cell_type": "code",
   "execution_count": null,
   "metadata": {},
   "outputs": [],
   "source": [
    "\n",
    "data = pd.read_csv('scraped_data.csv')"
   ]
  }
 ],
 "metadata": {
  "kernelspec": {
   "display_name": "mEnv",
   "language": "python",
   "name": "python3"
  },
  "language_info": {
   "codemirror_mode": {
    "name": "ipython",
    "version": 3
   },
   "file_extension": ".py",
   "mimetype": "text/x-python",
   "name": "python",
   "nbconvert_exporter": "python",
   "pygments_lexer": "ipython3",
   "version": "3.12.1"
  }
 },
 "nbformat": 4,
 "nbformat_minor": 2
}
