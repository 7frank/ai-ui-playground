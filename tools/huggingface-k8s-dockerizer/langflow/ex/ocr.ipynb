{
 "cells": [
  {
   "cell_type": "code",
   "execution_count": 4,
   "metadata": {},
   "outputs": [
    {
     "name": "stdout",
     "output_type": "stream",
     "text": [
      "Note: you may need to restart the kernel to use updated packages.\n"
     ]
    }
   ],
   "source": [
    "%pip install --quiet gradio_client"
   ]
  },
  {
   "cell_type": "code",
   "execution_count": 12,
   "metadata": {},
   "outputs": [
    {
     "name": "stdout",
     "output_type": "stream",
     "text": [
      "File saved to /tmp/langflow/sample_file.pdf_c51f8dda6ee8a458f4a5a8e53e19c98393f66f84c8e4c199a6b859782db3a97a.pdf\n",
      "Downloaded and hashed file saved at: /tmp/langflow/sample_file.pdf_c51f8dda6ee8a458f4a5a8e53e19c98393f66f84c8e4c199a6b859782db3a97a.pdf\n"
     ]
    }
   ],
   "source": [
    "import requests\n",
    "import hashlib\n",
    "import os\n",
    "from pathlib import Path\n",
    "\n",
    "def download_and_hash_pdf(pdf_url):\n",
    "    # Extract the filename from the URL\n",
    "    filename = Path(pdf_url).name\n",
    "\n",
    "    # Download the file\n",
    "    response = requests.get(pdf_url)\n",
    "    response.raise_for_status()  # This will raise an error for bad responses\n",
    "\n",
    "    # Compute the hash of the file content (e.g., using SHA-256)\n",
    "    file_hash = hashlib.sha256(response.content).hexdigest()\n",
    "\n",
    "    # Define the base directory and ensure it exists\n",
    "    base_dir = \"/tmp/langflow\"\n",
    "    os.makedirs(base_dir, exist_ok=True)\n",
    "\n",
    "    # Local path where you want to save the PDF, appending the hash to the filename\n",
    "    local_pdf_path = f\"{base_dir}/{filename}_{file_hash}.pdf\"\n",
    "\n",
    "    # Save the file locally with the new filename\n",
    "    with open(local_pdf_path, 'wb') as f:\n",
    "        f.write(response.content)\n",
    "\n",
    "    print(f\"File saved to {local_pdf_path}\")\n",
    "    return local_pdf_path\n",
    "\n",
    "# Example usage\n",
    "pdf_url = \"https://github.com/gradio-app/gradio/raw/main/test/test_files/sample_file.pdf\"\n",
    "downloaded_file_path = download_and_hash_pdf(pdf_url)\n",
    "print(f\"Downloaded and hashed file saved at: {downloaded_file_path}\")"
   ]
  },
  {
   "cell_type": "code",
   "execution_count": 13,
   "metadata": {},
   "outputs": [
    {
     "name": "stdout",
     "output_type": "stream",
     "text": [
      "Loaded as API: https://pszemraj-pdf-ocr-frank1147.internal.jambit.io/ ✔\n",
      "HELLO WORLD\n"
     ]
    }
   ],
   "source": [
    "from gradio_client import Client\n",
    "\n",
    "client = Client(\"https://pszemraj-pdf-ocr-frank1147.internal.jambit.io/\")\n",
    "result = client.predict(\n",
    "\t\tlocal_pdf_path,\t\n",
    "\t\tfn_index=0\n",
    ")\n",
    "print(result[0])"
   ]
  }
 ],
 "metadata": {
  "kernelspec": {
   "display_name": ".venv",
   "language": "python",
   "name": "python3"
  },
  "language_info": {
   "codemirror_mode": {
    "name": "ipython",
    "version": 3
   },
   "file_extension": ".py",
   "mimetype": "text/x-python",
   "name": "python",
   "nbconvert_exporter": "python",
   "pygments_lexer": "ipython3",
   "version": "3.10.12"
  }
 },
 "nbformat": 4,
 "nbformat_minor": 2
}
